{
 "cells": [
  {
   "cell_type": "code",
   "execution_count": 1,
   "metadata": {},
   "outputs": [
    {
     "name": "stdout",
     "output_type": "stream",
     "text": [
      "1D array: [ 1  2  3  4  5  6  7  8  9 10]\n",
      "2D array (3, 4): [[ 7  2 10 18]\n",
      " [ 2  1  1 19]\n",
      " [ 3  1 10  3]]\n",
      "Reshaped 2D array (4, 3): [[ 7  2 10]\n",
      " [18  2  1]\n",
      " [ 1 19  3]\n",
      " [ 1 10  3]]\n",
      "Reshaped 1D array: [ 7  2 10 18  2  1  1 19  3  1 10  3]\n",
      "Sliced array: [ 7  2 10 18  2]\n",
      "Array of zeros (2, 3): [[0. 0. 0.]\n",
      " [0. 0. 0.]]\n",
      "Array of ones (3, 2): [[1. 1.]\n",
      " [1. 1.]\n",
      " [1. 1.]]\n"
     ]
    }
   ],
   "source": [
    "import numpy as np\n",
    "\n",
    "# Create a 1-dimensional NumPy array with 10 elements of your choice\n",
    "array_1d = np.array([1, 2, 3, 4, 5, 6, 7, 8, 9, 10])\n",
    "print(\"1D array:\", array_1d)\n",
    "\n",
    "# Create a 2-dimensional NumPy array with shape (3, 4) containing random integers between 1 and 20\n",
    "array_2d = np.random.randint(1, 21, (3, 4))\n",
    "print(\"2D array (3, 4):\", array_2d)\n",
    "\n",
    "# Reshape the 2D array into a 4x3 array\n",
    "array_2d_reshaped = array_2d.reshape((4, 3))\n",
    "print(\"Reshaped 2D array (4, 3):\", array_2d_reshaped)\n",
    "\n",
    "# Reshape the 2D array into a 1D array\n",
    "array_1d_reshaped = array_2d.reshape((12,))\n",
    "print(\"Reshaped 1D array:\", array_1d_reshaped)\n",
    "\n",
    "# Slice the first 5 elements from the 1D array\n",
    "sliced_array = array_1d_reshaped[:5]\n",
    "print(\"Sliced array:\", sliced_array)\n",
    "\n",
    "# Create an array of zeros with shape (2, 3)\n",
    "array_zeros = np.zeros((2, 3))\n",
    "print(\"Array of zeros (2, 3):\", array_zeros)\n",
    "\n",
    "# Create an array of ones with shape (3, 2)\n",
    "array_ones = np.ones((3, 2))\n",
    "print(\"Array of ones (3, 2):\", array_ones)"
   ]
  },
  {
   "cell_type": "code",
   "execution_count": 2,
   "metadata": {},
   "outputs": [
    {
     "name": "stdout",
     "output_type": "stream",
     "text": [
      "Element-wise addition: [ 7  9 11 13 15]\n",
      "Element-wise subtraction: [-5 -5 -5 -5 -5]\n",
      "Element-wise multiplication: [ 6 14 24 36 50]\n",
      "Element-wise division: [0.16666667 0.28571429 0.375      0.44444444 0.5       ]\n"
     ]
    }
   ],
   "source": [
    "import numpy as np\n",
    "\n",
    "# Create two 1D arrays\n",
    "a = np.array([1, 2, 3, 4, 5])\n",
    "b = np.array([6, 7, 8, 9, 10])\n",
    "\n",
    "# Element-wise addition\n",
    "print(\"Element-wise addition:\", a + b)\n",
    "\n",
    "# Element-wise subtraction\n",
    "print(\"Element-wise subtraction:\", a - b)\n",
    "\n",
    "# Element-wise multiplication\n",
    "print(\"Element-wise multiplication:\", a * b)\n",
    "\n",
    "# Element-wise division\n",
    "print(\"Element-wise division:\", a / b)\n"
   ]
  },
  {
   "cell_type": "code",
   "execution_count": 3,
   "metadata": {},
   "outputs": [
    {
     "name": "stdout",
     "output_type": "stream",
     "text": [
      "Dot product of A and B: [[19 22]\n",
      " [43 50]]\n"
     ]
    }
   ],
   "source": [
    "import numpy as np\n",
    "\n",
    "# Create two 2D arrays\n",
    "A = np.array([[1, 2], [3, 4]])\n",
    "B = np.array([[5, 6], [7, 8]])\n",
    "\n",
    "# Compute the dot product\n",
    "dot_product = np.dot(A, B)\n",
    "\n",
    "print(\"Dot product of A and B:\", dot_product)"
   ]
  },
  {
   "cell_type": "code",
   "execution_count": 4,
   "metadata": {},
   "outputs": [
    {
     "name": "stdout",
     "output_type": "stream",
     "text": [
      "3x3 Identity Matrix:\n",
      "[[1. 0. 0.]\n",
      " [0. 1. 0.]\n",
      " [0. 0. 1.]]\n"
     ]
    }
   ],
   "source": [
    "import numpy as np\n",
    "\n",
    "# Create a 3x3 identity matrix\n",
    "identity_matrix = np.identity(3)\n",
    "\n",
    "print(\"3x3 Identity Matrix:\")\n",
    "print(identity_matrix)"
   ]
  },
  {
   "cell_type": "code",
   "execution_count": 5,
   "metadata": {},
   "outputs": [
    {
     "name": "stdout",
     "output_type": "stream",
     "text": [
      "Statistics of the 1D Array:\n",
      "Sum: 55\n",
      "Mean: 5.5\n",
      "Standard Deviation: 2.8722813232690143\n",
      "Variance: 8.25\n"
     ]
    }
   ],
   "source": [
    "import numpy as np\n",
    "\n",
    "# Create a 1D array\n",
    "array = np.array([1, 2, 3, 4, 5, 6, 7, 8, 9, 10])\n",
    "\n",
    "# Calculate statistics\n",
    "sum_array = np.sum(array)\n",
    "mean_array = np.mean(array)\n",
    "std_dev_array = np.std(array)\n",
    "variance_array = np.var(array)\n",
    "\n",
    "print(\"Statistics of the 1D Array:\")\n",
    "print(f\"Sum: {sum_array}\")\n",
    "print(f\"Mean: {mean_array}\")\n",
    "print(f\"Standard Deviation: {std_dev_array}\")\n",
    "print(f\"Variance: {variance_array}\")"
   ]
  },
  {
   "cell_type": "code",
   "execution_count": 15,
   "metadata": {},
   "outputs": [
    {
     "name": "stdout",
     "output_type": "stream",
     "text": [
      "Original Array:\n",
      "[28  0 26 44 12 26 38 23 21  1 10 40 24 32  7]\n",
      "\n",
      "Array with elements <= 25:\n",
      "[ 0 12 23 21  1 10 24  7]\n",
      "\n",
      "Array with values < 10 replaced with 10:\n",
      "[28 10 26 44 12 26 38 23 21 10 10 40 24 32 10]\n"
     ]
    }
   ],
   "source": [
    "import numpy as np\n",
    "\n",
    "# Create a 1D array with 15 random integers between 0 and 50\n",
    "array = np.random.randint(0, 51, 15)\n",
    "print(\"Original Array:\")\n",
    "print(array)\n",
    "\n",
    "# Use Boolean indexing to filter out all elements greater than 25 and print the result\n",
    "filtered_array = array[array <= 25]\n",
    "print(\"\\nArray with elements <= 25:\")\n",
    "print(filtered_array)\n",
    "\n",
    "# Replace all values in the array that are less than 10 with 10\n",
    "array[array < 10] = 10\n",
    "print(\"\\nArray with values < 10 replaced with 10:\")\n",
    "print(array)"
   ]
  },
  {
   "cell_type": "code",
   "execution_count": 16,
   "metadata": {},
   "outputs": [
    {
     "name": "stdout",
     "output_type": "stream",
     "text": [
      "Original Matrix:\n",
      "[[94 54 83 84 18]\n",
      " [22 96 24 54 28]\n",
      " [78 22 92 46 12]\n",
      " [56  2 34 82 52]\n",
      " [74 61 74 32 83]]\n",
      "\n",
      "Minimum Value: 2, Maximum Value: 96\n",
      "\n",
      "Row-wise Sums:\n",
      "[333 224 250 226 324]\n",
      "\n",
      "Column-wise Sums:\n",
      "[324 235 307 298 193]\n",
      "\n",
      "Array 1:\n",
      "[[37 28 68]\n",
      " [71 38 77]\n",
      " [ 2  6 19]]\n",
      "\n",
      "Array 2:\n",
      "[[32 96 81]\n",
      " [16 33 71]\n",
      " [46 25 71]]\n",
      "\n",
      "Vertical Stack:\n",
      "[[37 28 68]\n",
      " [71 38 77]\n",
      " [ 2  6 19]\n",
      " [32 96 81]\n",
      " [16 33 71]\n",
      " [46 25 71]]\n",
      "\n",
      "Horizontal Stack:\n",
      "[[37 28 68 32 96 81]\n",
      " [71 38 77 16 33 71]\n",
      " [ 2  6 19 46 25 71]]\n"
     ]
    }
   ],
   "source": [
    "import numpy as np\n",
    "\n",
    "# Generate a 5x5 matrix with random integers\n",
    "matrix = np.random.randint(0, 100, (5, 5))\n",
    "print(\"Original Matrix:\")\n",
    "print(matrix)\n",
    "\n",
    "# Find the minimum and maximum values in the matrix\n",
    "min_val = np.min(matrix)\n",
    "max_val = np.max(matrix)\n",
    "print(f\"\\nMinimum Value: {min_val}, Maximum Value: {max_val}\")\n",
    "\n",
    "# Calculate the row-wise and column-wise sums of the matrix\n",
    "row_sums = np.sum(matrix, axis=1)\n",
    "col_sums = np.sum(matrix, axis=0)\n",
    "print(\"\\nRow-wise Sums:\")\n",
    "print(row_sums)\n",
    "print(\"\\nColumn-wise Sums:\")\n",
    "print(col_sums)\n",
    "\n",
    "# Create two 2D arrays and stack them vertically and horizontally using NumPy functions\n",
    "array1 = np.random.randint(0, 100, (3, 3))\n",
    "array2 = np.random.randint(0, 100, (3, 3))\n",
    "print(\"\\nArray 1:\")\n",
    "print(array1)\n",
    "print(\"\\nArray 2:\")\n",
    "print(array2)\n",
    "\n",
    "# Stack arrays vertically\n",
    "vertical_stack = np.vstack((array1, array2))\n",
    "print(\"\\nVertical Stack:\")\n",
    "print(vertical_stack)\n",
    "\n",
    "# Stack arrays horizontally\n",
    "horizontal_stack = np.hstack((array1, array2))\n",
    "print(\"\\nHorizontal Stack:\")\n",
    "print(horizontal_stack)"
   ]
  }
 ],
 "metadata": {
  "kernelspec": {
   "display_name": "base",
   "language": "python",
   "name": "python3"
  },
  "language_info": {
   "codemirror_mode": {
    "name": "ipython",
    "version": 3
   },
   "file_extension": ".py",
   "mimetype": "text/x-python",
   "name": "python",
   "nbconvert_exporter": "python",
   "pygments_lexer": "ipython3",
   "version": "3.11.5"
  }
 },
 "nbformat": 4,
 "nbformat_minor": 2
}
